{
 "cells": [
  {
   "cell_type": "code",
   "execution_count": 1,
   "id": "8027da39",
   "metadata": {},
   "outputs": [],
   "source": [
    "import geopandas as gpd\n",
    "import requests as req"
   ]
  },
  {
   "cell_type": "code",
   "execution_count": null,
   "id": "0a0d1544",
   "metadata": {},
   "outputs": [],
   "source": [
    "#DAI = gpd.read_file('data_sets/dai_shp.zip')\n",
    "layer = 'https://oaiee.scj.gov.co/agc/rest/services/Tematicos_Pub/CifrasSCJ/MapServer/0'\n",
    "fields_route = f'{layer}/query?where=1=1&outFields=*&f=geojson'\n",
    "metadata_route = f'{layer}?f=pjson'"
   ]
  },
  {
   "cell_type": "code",
   "execution_count": 13,
   "id": "9a1f9ac5",
   "metadata": {},
   "outputs": [],
   "source": [
    "metadata = req.get(metadata_route).json()\n",
    "#metadata"
   ]
  },
  {
   "cell_type": "code",
   "execution_count": 12,
   "id": "56bf4887",
   "metadata": {},
   "outputs": [
    {
     "data": {
      "text/plain": [
       "4686"
      ]
     },
     "execution_count": 12,
     "metadata": {},
     "output_type": "execute_result"
    }
   ],
   "source": [
    "EPSG = metadata.get('sourceSpatialReference').get('latestWkid')\n",
    "EPSG"
   ]
  },
  {
   "cell_type": "code",
   "execution_count": null,
   "id": "5918c5cd",
   "metadata": {},
   "outputs": [],
   "source": [
    "DAI = gpd.read_file(fields_route)\n",
    "DAI = DAI.to_crs(epsg=EPSG)\n",
    "#DAI"
   ]
  },
  {
   "cell_type": "code",
   "execution_count": 6,
   "id": "a6c6be11",
   "metadata": {},
   "outputs": [
    {
     "data": {
      "text/plain": [
       "<Geographic 2D CRS: EPSG:4686>\n",
       "Name: MAGNA-SIRGAS\n",
       "Axis Info [ellipsoidal]:\n",
       "- Lat[north]: Geodetic latitude (degree)\n",
       "- Lon[east]: Geodetic longitude (degree)\n",
       "Area of Use:\n",
       "- name: Colombia - onshore and offshore. Includes San Andres y Providencia, Malpelo Islands, Roncador Bank, Serrana Bank and Serranilla Bank.\n",
       "- bounds: (-84.77, -4.23, -66.87, 15.51)\n",
       "Datum: Marco Geocentrico Nacional de Referencia\n",
       "- Ellipsoid: GRS 1980\n",
       "- Prime Meridian: Greenwich"
      ]
     },
     "execution_count": 6,
     "metadata": {},
     "output_type": "execute_result"
    }
   ],
   "source": [
    "DAI.crs"
   ]
  },
  {
   "cell_type": "code",
   "execution_count": 7,
   "id": "a7130b0d",
   "metadata": {},
   "outputs": [
    {
     "data": {
      "text/plain": [
       "<Axes: >"
      ]
     },
     "execution_count": 7,
     "metadata": {},
     "output_type": "execute_result"
    },
    {
     "data": {
      "image/png": "[encoded data removed]",
      "text/plain": [
       "<Figure size 640x480 with 1 Axes>"
      ]
     },
     "metadata": {},
     "output_type": "display_data"
    }
   ],
   "source": [
    "DAI.plot(cmap = 'coolwarm', edgecolor='black', column='CMIULOCAL')"
   ]
  },
  {
   "cell_type": "code",
   "execution_count": 8,
   "id": "06080362",
   "metadata": {},
   "outputs": [
    {
     "data": {
      "text/plain": [
       "<bound method DataFrame.info of     OBJECTID CMIULOCAL          CMNOMLOCAL                 CMMES  CMH18CONT  \\\n",
       "0        341        09            Fontibón  Ene-Mar (2024vs2025)          3   \n",
       "1        332        19      Ciudad Bolívar  Ene-Mar (2024vs2025)         61   \n",
       "2        329        02           Chapinero  Ene-Mar (2024vs2025)          3   \n",
       "3        321        20             Sumapaz  Ene-Mar (2024vs2025)          0   \n",
       "4        322        18  Rafael Uribe Uribe  Ene-Mar (2024vs2025)         21   \n",
       "5        323        17          Candelaria  Ene-Mar (2024vs2025)          0   \n",
       "6        324        12      Barrios Unidos  Ene-Mar (2024vs2025)          4   \n",
       "7        325        13         Teusaquillo  Ene-Mar (2024vs2025)          1   \n",
       "8        326        16       Puente Aranda  Ene-Mar (2024vs2025)          2   \n",
       "9        327        14        Los Mártires  Ene-Mar (2024vs2025)         12   \n",
       "10       328        01             Usaquén  Ene-Mar (2024vs2025)          9   \n",
       "11       330        04       San Cristóbal  Ene-Mar (2024vs2025)         11   \n",
       "12       331        05                Usme  Ene-Mar (2024vs2025)         22   \n",
       "13       333        07                Bosa  Ene-Mar (2024vs2025)         25   \n",
       "14       334        08             Kennedy  Ene-Mar (2024vs2025)         39   \n",
       "15       335        10            Engativá  Ene-Mar (2024vs2025)         13   \n",
       "16       336        11                Suba  Ene-Mar (2024vs2025)         20   \n",
       "17       337        06          Tunjuelito  Ene-Mar (2024vs2025)          5   \n",
       "18       338        03            Santa Fe  Ene-Mar (2024vs2025)          5   \n",
       "19       339        15      Antonio Nariño  Ene-Mar (2024vs2025)          7   \n",
       "20       340        99    Sin Localización  Ene-Mar (2024vs2025)          0   \n",
       "\n",
       "    CMH19CONT  CMH20CONT  CMH21CONT  CMH22CONT  CMH23CONT  ...  CMVI21CONT  \\\n",
       "0           5          4          4          6          5  ...         322   \n",
       "1          43         53         47         43         54  ...         772   \n",
       "2           1          1          1          1          4  ...         171   \n",
       "3           0          0          2          1          1  ...           0   \n",
       "4          16         27         18         19         15  ...         445   \n",
       "5           0          1          3          1          3  ...          59   \n",
       "6           0          1          3          0          7  ...         138   \n",
       "7           1          0          1          5          1  ...         126   \n",
       "8           9         29          5          5          4  ...         352   \n",
       "9          17         22         18         12         11  ...         155   \n",
       "10          8         14          7         10         10  ...         457   \n",
       "11          9         12         15          7          8  ...         568   \n",
       "12         20         10         16         17         18  ...         532   \n",
       "13         22         21         32         18         28  ...        1008   \n",
       "14         29         32         26         24         31  ...        1031   \n",
       "15         14          8          6         14         21  ...         746   \n",
       "16         11         19         11         13         12  ...        1051   \n",
       "17         24          6          7          4          4  ...         134   \n",
       "18         10          5          9         11         16  ...         234   \n",
       "19          3          0          2          2          4  ...         101   \n",
       "20          0          0          0          0          0  ...           2   \n",
       "\n",
       "    CMVI22CONT  CMVI23CONT  CMVI24CONT  CMVI25CONT  CMVIVAR  CMVITOTAL  \\\n",
       "0          479         177         714         623   -12.75      11086   \n",
       "1         1252        1778         744        1037    39.38      11086   \n",
       "2          222         113         229         178   -22.27      11086   \n",
       "3            0           0           0           0     0.00      11086   \n",
       "4          543         225         352         490    39.20      11086   \n",
       "5          210          25          27          44    62.96      11086   \n",
       "6          152          64         201         373    85.57      11086   \n",
       "7          199          68         154         570   270.13      11086   \n",
       "8          346         211         140         636   354.29      11086   \n",
       "9          183          83         215         244    13.49      11086   \n",
       "10         312         266         508         438   -13.78      11086   \n",
       "11         674         360         367         438    19.35      11086   \n",
       "12         681         301         443         390   -11.96      11086   \n",
       "13        1120         624         712         748     5.06      11086   \n",
       "14        1398         507        1056        1083     2.56      11086   \n",
       "15        1066         350         784        1132    44.39      11086   \n",
       "16        1112         696        1193        1197     0.34      11086   \n",
       "17         308          96         125         340   172.00      11086   \n",
       "18         238         172         111         420   278.38      11086   \n",
       "19         184          69          90         101    12.22      11086   \n",
       "20           0           3          68         604   788.24      11086   \n",
       "\n",
       "    SHAPE.AREA  SHAPE.LEN                                           geometry  \n",
       "0     0.002710   0.321915  POLYGON ((-74.15857 4.66274, -74.15845 4.66267...  \n",
       "1     0.010585   0.702136  POLYGON ((-74.21092 4.38691, -74.21092 4.38691...  \n",
       "2     0.003095   0.333966  POLYGON ((-74.01116 4.66459, -74.01117 4.6646,...  \n",
       "3     0.063549   1.914949  POLYGON ((-74.20584 4.26966, -74.20567 4.26952...  \n",
       "4     0.001126   0.174513  POLYGON ((-74.12803 4.59254, -74.12829 4.59265...  \n",
       "5     0.000168   0.067158  POLYGON ((-74.06621 4.60317, -74.06621 4.60317...  \n",
       "6     0.000969   0.121180  POLYGON ((-74.05725 4.68684, -74.05725 4.68684...  \n",
       "7     0.001156   0.148314  POLYGON ((-74.09372 4.66607, -74.10342 4.65351...  \n",
       "8     0.001410   0.161116  POLYGON ((-74.1183 4.63741, -74.11845 4.63727,...  \n",
       "9     0.000530   0.099382  POLYGON ((-74.07283 4.61542, -74.07296 4.61558...  \n",
       "10    0.005310   0.436907  POLYGON ((-74.01116 4.66459, -74.01094 4.66457...  \n",
       "11    0.003998   0.363689  POLYGON ((-74.029 4.5583, -74.02892 4.55857, -...  \n",
       "12    0.017508   0.982969  POLYGON ((-74.05597 4.50832, -74.05599 4.50834...  \n",
       "13    0.001949   0.307901  POLYGON ((-74.18567 4.64705, -74.18568 4.64705...  \n",
       "14    0.003143   0.283582  POLYGON ((-74.18567 4.64705, -74.1848 4.64497,...  \n",
       "15    0.002922   0.291966  POLYGON ((-74.15547 4.71798, -74.15547 4.71798...  \n",
       "16    0.008191   0.592875  POLYGON ((-74.0345 4.82547, -74.03489 4.82552,...  \n",
       "17    0.000807   0.210542  POLYGON ((-74.13777 4.59489, -74.14043 4.59536...  \n",
       "18    0.003678   0.395052  POLYGON ((-73.99446 4.61425, -73.99446 4.61425...  \n",
       "19    0.000397   0.108973  POLYGON ((-74.13075 4.59335, -74.13075 4.59335...  \n",
       "20    0.000000   0.000000                                      POLYGON EMPTY  \n",
       "\n",
       "[21 rows x 117 columns]>"
      ]
     },
     "execution_count": 8,
     "metadata": {},
     "output_type": "execute_result"
    }
   ],
   "source": [
    "DAI.info"
   ]
  },
  {
   "cell_type": "code",
   "execution_count": 9,
   "id": "1f4a75c6",
   "metadata": {},
   "outputs": [
    {
     "data": {
      "text/plain": [
       "OBJECTID         int32\n",
       "CMIULOCAL       object\n",
       "CMNOMLOCAL      object\n",
       "CMMES           object\n",
       "CMH18CONT        int32\n",
       "                ...   \n",
       "CMVIVAR        float64\n",
       "CMVITOTAL        int32\n",
       "SHAPE.AREA     float64\n",
       "SHAPE.LEN      float64\n",
       "geometry      geometry\n",
       "Length: 117, dtype: object"
      ]
     },
     "execution_count": 9,
     "metadata": {},
     "output_type": "execute_result"
    }
   ],
   "source": [
    "DAI.dtypes"
   ]
  }
 ],
 "metadata": {
  "kernelspec": {
   "display_name": "venv",
   "language": "python",
   "name": "python3"
  },
  "language_info": {
   "codemirror_mode": {
    "name": "ipython",
    "version": 3
   },
   "file_extension": ".py",
   "mimetype": "text/x-python",
   "name": "python",
   "nbconvert_exporter": "python",
   "pygments_lexer": "ipython3",
   "version": "3.11.0"
  }
 },
 "nbformat": 4,
 "nbformat_minor": 5
}
